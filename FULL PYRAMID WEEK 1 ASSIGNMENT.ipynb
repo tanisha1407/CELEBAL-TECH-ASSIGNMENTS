{
 "cells": [
  {
   "cell_type": "code",
   "execution_count": 2,
   "id": "77691f62-363e-4c5f-a482-38c39264b1fe",
   "metadata": {},
   "outputs": [
    {
     "name": "stdin",
     "output_type": "stream",
     "text": [
      "enter number of rows: 5\n"
     ]
    },
    {
     "name": "stdout",
     "output_type": "stream",
     "text": [
      "    *\n",
      "   ***\n",
      "  *****\n",
      " *******\n",
      "*********\n"
     ]
    }
   ],
   "source": [
    "#QUESTION: CREATE A TRIANGULAR PYRAMID:\n",
    "n=int(input(\"enter number of rows:\"))\n",
    "k=0\n",
    "for i in range(1,n+1):\n",
    "    for space in range(1,(n-i)+1):\n",
    "        print(end=\" \")\n",
    "    while k!=(2*i-1):\n",
    "        print(\"*\",end=\"\")\n",
    "        k+=1\n",
    "    k=0\n",
    "    print()"
   ]
  },
  {
   "cell_type": "code",
   "execution_count": 4,
   "id": "ed34f052-ba5a-42a0-9e87-7a3f2e5295b4",
   "metadata": {},
   "outputs": [
    {
     "name": "stdin",
     "output_type": "stream",
     "text": [
      "enter number of rows: 7\n"
     ]
    },
    {
     "name": "stdout",
     "output_type": "stream",
     "text": [
      "      *\n",
      "     ***\n",
      "    *****\n",
      "   *******\n",
      "  *********\n",
      " ***********\n",
      "*************\n"
     ]
    }
   ],
   "source": [
    "#QUESTION: CREATE A TRIANGULAR PYRAMID:\n",
    "n=int(input(\"enter number of rows:\"))\n",
    "k=0\n",
    "for i in range(1,n+1):\n",
    "    for space in range(1,(n-i)+1):\n",
    "        print(end=\" \")\n",
    "    while k!=(2*i-1):\n",
    "        print(\"*\",end=\"\")\n",
    "        k+=1\n",
    "    k=0\n",
    "    print()"
   ]
  },
  {
   "cell_type": "code",
   "execution_count": 6,
   "id": "dd69f37d-587b-4090-8bd6-2e1f95eb1d6b",
   "metadata": {},
   "outputs": [
    {
     "name": "stdin",
     "output_type": "stream",
     "text": [
      "enter number of rows: 12\n"
     ]
    },
    {
     "name": "stdout",
     "output_type": "stream",
     "text": [
      "           *\n",
      "          ***\n",
      "         *****\n",
      "        *******\n",
      "       *********\n",
      "      ***********\n",
      "     *************\n",
      "    ***************\n",
      "   *****************\n",
      "  *******************\n",
      " *********************\n",
      "***********************\n"
     ]
    }
   ],
   "source": [
    "#QUESTION: CREATE A TRIANGULAR PYRAMID:\n",
    "n=int(input(\"enter number of rows:\"))\n",
    "k=0\n",
    "for i in range(1,n+1):\n",
    "    for space in range(1,(n-i)+1):\n",
    "        print(end=\" \")\n",
    "    while k!=(2*i-1):\n",
    "        print(\"*\",end=\"\")\n",
    "        k+=1\n",
    "    k=0\n",
    "    print()"
   ]
  },
  {
   "cell_type": "code",
   "execution_count": null,
   "id": "8f2a77a6-39bc-4e94-9e4a-3a19fde8908f",
   "metadata": {},
   "outputs": [],
   "source": []
  }
 ],
 "metadata": {
  "kernelspec": {
   "display_name": "Python 3 (ipykernel)",
   "language": "python",
   "name": "python3"
  },
  "language_info": {
   "codemirror_mode": {
    "name": "ipython",
    "version": 3
   },
   "file_extension": ".py",
   "mimetype": "text/x-python",
   "name": "python",
   "nbconvert_exporter": "python",
   "pygments_lexer": "ipython3",
   "version": "3.12.4"
  }
 },
 "nbformat": 4,
 "nbformat_minor": 5
}
