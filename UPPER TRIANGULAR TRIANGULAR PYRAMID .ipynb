{
 "cells": [
  {
   "cell_type": "code",
   "execution_count": 12,
   "id": "205917ec-426f-4d3f-acb6-d076f197ce17",
   "metadata": {},
   "outputs": [],
   "source": [
    "#QUESTION: CREATE A UPPER TRIANGULAR PYRAMID:\n"
   ]
  },
  {
   "cell_type": "code",
   "execution_count": 14,
   "id": "0a8eab14-3400-493c-9af7-eda1c9b3f0f3",
   "metadata": {},
   "outputs": [
    {
     "name": "stdin",
     "output_type": "stream",
     "text": [
      "enter number of rows: 6\n"
     ]
    },
    {
     "name": "stdout",
     "output_type": "stream",
     "text": [
      "*\n",
      "**\n",
      "***\n",
      "****\n",
      "*****\n",
      "******\n"
     ]
    }
   ],
   "source": [
    "n=int(input(\"enter number of rows:\"))\n",
    "for i in range(1,n+1):\n",
    "    print(\"*\" *i)"
   ]
  },
  {
   "cell_type": "code",
   "execution_count": 16,
   "id": "9d02d553-fddd-43b7-a787-d912a20be7a5",
   "metadata": {},
   "outputs": [
    {
     "name": "stdin",
     "output_type": "stream",
     "text": [
      "enter number of rows: 7\n"
     ]
    },
    {
     "name": "stdout",
     "output_type": "stream",
     "text": [
      "*\n",
      "**\n",
      "***\n",
      "****\n",
      "*****\n",
      "******\n",
      "*******\n"
     ]
    }
   ],
   "source": [
    "n=int(input(\"enter number of rows:\"))\n",
    "for i in range(1,n+1):\n",
    "    print(\"*\" *i)"
   ]
  },
  {
   "cell_type": "code",
   "execution_count": 18,
   "id": "833a2079-2bd6-492a-88f5-268dc5013c33",
   "metadata": {},
   "outputs": [
    {
     "name": "stdin",
     "output_type": "stream",
     "text": [
      "enter number of rows: 34\n"
     ]
    },
    {
     "name": "stdout",
     "output_type": "stream",
     "text": [
      "*\n",
      "**\n",
      "***\n",
      "****\n",
      "*****\n",
      "******\n",
      "*******\n",
      "********\n",
      "*********\n",
      "**********\n",
      "***********\n",
      "************\n",
      "*************\n",
      "**************\n",
      "***************\n",
      "****************\n",
      "*****************\n",
      "******************\n",
      "*******************\n",
      "********************\n",
      "*********************\n",
      "**********************\n",
      "***********************\n",
      "************************\n",
      "*************************\n",
      "**************************\n",
      "***************************\n",
      "****************************\n",
      "*****************************\n",
      "******************************\n",
      "*******************************\n",
      "********************************\n",
      "*********************************\n",
      "**********************************\n"
     ]
    }
   ],
   "source": [
    "n=int(input(\"enter number of rows:\"))\n",
    "for i in range(1,n+1):\n",
    "    print(\"*\" *i)"
   ]
  },
  {
   "cell_type": "code",
   "execution_count": null,
   "id": "f9b5e76c-c0f3-4ed3-8326-484f9394e195",
   "metadata": {},
   "outputs": [],
   "source": []
  }
 ],
 "metadata": {
  "kernelspec": {
   "display_name": "Python 3 (ipykernel)",
   "language": "python",
   "name": "python3"
  },
  "language_info": {
   "codemirror_mode": {
    "name": "ipython",
    "version": 3
   },
   "file_extension": ".py",
   "mimetype": "text/x-python",
   "name": "python",
   "nbconvert_exporter": "python",
   "pygments_lexer": "ipython3",
   "version": "3.12.4"
  }
 },
 "nbformat": 4,
 "nbformat_minor": 5
}
